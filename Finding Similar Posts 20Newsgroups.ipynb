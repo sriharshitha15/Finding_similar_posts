{
 "cells": [
  {
   "cell_type": "code",
   "execution_count": 1,
   "metadata": {},
   "outputs": [],
   "source": [
    "%matplotlib inline\n",
    "\n",
    "import sys\n",
    "import os\n",
    "import sklearn\n",
    "import numpy as np\n",
    "import scipy as sp\n",
    "import scipy.sparse as spa\n",
    "import matplotlib.pyplot as plt\n",
    "from time import time\n",
    "from sklearn.datasets import fetch_20newsgroups\n",
    "from sklearn.feature_extraction.text import TfidfVectorizer\n",
    "from sklearn.metrics import confusion_matrix\n",
    "from sklearn.metrics import classification_report\n",
    "from sklearn.naive_bayes import MultinomialNB\n",
    "from sklearn.cluster import KMeans\n"
   ]
  },
  {
   "cell_type": "code",
   "execution_count": 2,
   "metadata": {},
   "outputs": [
    {
     "name": "stdout",
     "output_type": "stream",
     "text": [
      "Loading 20 newsgroups training set... \n",
      "11314 documents\n",
      "20 categories\n",
      "done in 0.285633s\n"
     ]
    }
   ],
   "source": [
    "# Load the training set\n",
    "print(\"Loading 20 newsgroups training set... \")\n",
    "dataset = fetch_20newsgroups(subset='all',shuffle=True, random_state=4)\n",
    "#Classifying dataset into training set\n",
    "t0=time()\n",
    "newsgroups_train = fetch_20newsgroups(subset='train')\n",
    "#print(newsgroups_train.DESCR)\n",
    "print(\"%d documents\" % len(newsgroups_train.filenames))\n",
    "#filenames = newsgroups_train.filenames\n",
    "print(\"%d categories\" % len(newsgroups_train.target_names))\n",
    "print(\"done in %fs\" % (time() - t0))"
   ]
  },
  {
   "cell_type": "code",
   "execution_count": 3,
   "metadata": {},
   "outputs": [
    {
     "name": "stdout",
     "output_type": "stream",
     "text": [
      "Loading 20 newsgroups test set... \n",
      "done in 0.000000s\n",
      "Predicting the labels of the test set...\n",
      "7532 documents\n",
      "20 categories\n"
     ]
    }
   ],
   "source": [
    "print(\"Loading 20 newsgroups test set... \")\n",
    "#Classifying daatset into test set\n",
    "newsgroups_test = fetch_20newsgroups(subset='test')\n",
    "t0 = time()\n",
    "print(\"done in %fs\" % (time() - t0))\n",
    "print(\"Predicting the labels of the test set...\")\n",
    "print(\"%d documents\" % len(newsgroups_test.filenames))\n",
    "print(\"%d categories\" % len(newsgroups_test.target_names))\n",
    "\n"
   ]
  },
  {
   "cell_type": "code",
   "execution_count": 4,
   "metadata": {},
   "outputs": [
    {
     "name": "stdout",
     "output_type": "stream",
     "text": [
      "done in 0.221436s\n",
      "n_samples: 11314, n_features: 9879\n"
     ]
    }
   ],
   "source": [
    "# Feature Extraction\n",
    "#We now vectorize the dataset using SKLearn vectorizers.\n",
    "#This is the stage of feature extraction. We use the TF-IDF feature model.\n",
    "t0=time()\n",
    "vectorizer = TfidfVectorizer(encoding='latin1')\n",
    "X_train = vectorizer.fit_transform(newsgroups_train.filenames)\n",
    "print(\"done in %fs\" % (time() - t0))\n",
    "print(\"n_samples: %d, n_features: %d\" % X_train.shape)\n",
    "assert spa.issparse(X_train)\n",
    "y_train = newsgroups_train.target\n"
   ]
  },
  {
   "cell_type": "code",
   "execution_count": 6,
   "metadata": {},
   "outputs": [
    {
     "name": "stdout",
     "output_type": "stream",
     "text": [
      "Extracting features from the dataset using the same vectorizer\n",
      "done in 0.157541s\n",
      "n_samples: 7532, n_features: 9879\n"
     ]
    }
   ],
   "source": [
    "print(\"Extracting features from the dataset using the same vectorizer\")\n",
    "t0 = time()\n",
    "X_test = vectorizer.transform( newsgroups_test.filenames)\n",
    "y_test = newsgroups_test.target\n",
    "print(\"done in %fs\" % (time() - t0))\n",
    "print(\"n_samples: %d, n_features: %d\" % X_test.shape)"
   ]
  },
  {
   "cell_type": "code",
   "execution_count": 5,
   "metadata": {},
   "outputs": [],
   "source": [
    "#Benchmarking aims at evaluating something by comparison with a standard. \n",
    "#Benchmarking the code means how fast the code is executing and where the bottleneck is.\n",
    "#One major reason for benchmarking is that it optimizes the code.\n",
    "\n",
    "#A confusion matrix is a tabular summary of the number of correct and incorrect predictions made by a classifier.\n",
    "#It can be used to evaluate the performance of a classification model through the calculation of performance metrics like accuracy, precision, recall, and F1-score."
   ]
  },
  {
   "cell_type": "code",
   "execution_count": 6,
   "metadata": {},
   "outputs": [],
   "source": [
    "#benchmark  Multinomialclassifiers\n",
    " \n",
    "    \n",
    "def benchmark(clf_class, params, name):\n",
    "    print(\"parameters:\", params)\n",
    "    t0 = time()\n",
    "    clf = clf_class(**params).fit(X_train, y_train)\n",
    "    print(\"done in %fs\" % (time() - t0))\n",
    "\n",
    "    if hasattr(clf, 'coef_'):\n",
    "        print(\"Percentage of non zeros coef: %f\" % (np.mean(clf.coef_ != 0) * 100))\n",
    "    print(\"Predicting the outcomes of the testing set\")\n",
    "    t0 = time()\n",
    "    pred = clf.predict(X_test)\n",
    "    print(\"done in %fs\" % (time() - t0))\n",
    "\n",
    "    print(\"Classification report on test set for classifier:\")\n",
    "    print(clf)\n",
    "    print()\n",
    "    print(classification_report(y_test, pred, target_names=newsgroups_test.target_names))\n",
    "\n",
    "    cm = confusion_matrix(y_test, pred)\n",
    "    print(\"Confusion matrix:\")\n",
    "    print(cm)\n",
    "    \n",
    "    # Show confusion matrix\n",
    "    plt.matshow(cm)\n",
    "    plt.colorbar(orientation = 'horizontal' )\n",
    "    plt.title('Confusion matrix')\n",
    "    \n",
    "    \n",
    "    "
   ]
  },
  {
   "cell_type": "code",
   "execution_count": 9,
   "metadata": {
    "scrolled": true
   },
   "outputs": [
    {
     "name": "stdout",
     "output_type": "stream",
     "text": [
      "Testbenching a MultinomialNB classifier...\n",
      "parameters: {'alpha': 0.01}\n",
      "done in 0.021942s\n",
      "Percentage of non zeros coef: 100.000000\n",
      "Predicting the outcomes of the testing set\n",
      "done in 0.003990s\n",
      "Classification report on test set for classifier:\n",
      "MultinomialNB(alpha=0.01, class_prior=None, fit_prior=True)\n",
      "\n",
      "                          precision    recall  f1-score   support\n",
      "\n",
      "             alt.atheism       1.00      1.00      1.00       319\n",
      "           comp.graphics       1.00      1.00      1.00       389\n",
      " comp.os.ms-windows.misc       1.00      1.00      1.00       394\n",
      "comp.sys.ibm.pc.hardware       1.00      1.00      1.00       392\n",
      "   comp.sys.mac.hardware       1.00      1.00      1.00       385\n",
      "          comp.windows.x       1.00      1.00      1.00       395\n",
      "            misc.forsale       1.00      1.00      1.00       390\n",
      "               rec.autos       1.00      0.79      0.88       396\n",
      "         rec.motorcycles       0.80      0.83      0.81       398\n",
      "      rec.sport.baseball       0.86      1.00      0.92       397\n",
      "        rec.sport.hockey       1.00      1.00      1.00       399\n",
      "               sci.crypt       1.00      1.00      1.00       396\n",
      "         sci.electronics       1.00      1.00      1.00       393\n",
      "                 sci.med       1.00      1.00      1.00       396\n",
      "               sci.space       1.00      1.00      1.00       394\n",
      "  soc.religion.christian       1.00      1.00      1.00       398\n",
      "      talk.politics.guns       1.00      1.00      1.00       364\n",
      "   talk.politics.mideast       1.00      1.00      1.00       376\n",
      "      talk.politics.misc       1.00      1.00      1.00       310\n",
      "      talk.religion.misc       1.00      1.00      1.00       251\n",
      "\n",
      "                accuracy                           0.98      7532\n",
      "               macro avg       0.98      0.98      0.98      7532\n",
      "            weighted avg       0.98      0.98      0.98      7532\n",
      "\n",
      "Confusion matrix:\n",
      "[[319   0   0   0   0   0   0   0   0   0   0   0   0   0   0   0   0   0\n",
      "    0   0]\n",
      " [  0 389   0   0   0   0   0   0   0   0   0   0   0   0   0   0   0   0\n",
      "    0   0]\n",
      " [  0   0 394   0   0   0   0   0   0   0   0   0   0   0   0   0   0   0\n",
      "    0   0]\n",
      " [  0   0   0 392   0   0   0   0   0   0   0   0   0   0   0   0   0   0\n",
      "    0   0]\n",
      " [  0   0   0   0 385   0   0   0   0   0   0   0   0   0   0   0   0   0\n",
      "    0   0]\n",
      " [  0   0   0   0   0 395   0   0   0   0   0   0   0   0   0   0   0   0\n",
      "    0   0]\n",
      " [  0   0   0   0   0   0 390   0   0   0   0   0   0   0   0   0   0   0\n",
      "    0   0]\n",
      " [  0   0   0   0   0   0   0 312  84   0   0   0   0   0   0   0   0   0\n",
      "    0   0]\n",
      " [  0   0   0   0   0   0   0   0 331  67   0   0   0   0   0   0   0   0\n",
      "    0   0]\n",
      " [  0   0   0   0   0   0   0   0   0 397   0   0   0   0   0   0   0   0\n",
      "    0   0]\n",
      " [  0   0   0   0   0   0   0   0   0   0 399   0   0   0   0   0   0   0\n",
      "    0   0]\n",
      " [  0   0   0   0   0   0   0   0   0   0   0 396   0   0   0   0   0   0\n",
      "    0   0]\n",
      " [  0   0   0   0   0   0   0   0   0   0   0   0 393   0   0   0   0   0\n",
      "    0   0]\n",
      " [  0   0   0   0   0   0   0   0   0   0   0   0   0 395   1   0   0   0\n",
      "    0   0]\n",
      " [  0   0   0   0   0   0   0   0   0   0   0   0   0   0 394   0   0   0\n",
      "    0   0]\n",
      " [  0   0   0   0   0   0   0   0   0   0   0   0   0   0   0 398   0   0\n",
      "    0   0]\n",
      " [  0   0   0   0   0   0   0   0   0   0   0   0   0   0   0   0 364   0\n",
      "    0   0]\n",
      " [  0   0   0   0   0   0   0   0   0   0   0   0   0   0   0   0   0 376\n",
      "    0   0]\n",
      " [  0   0   0   0   0   0   0   0   0   0   0   0   0   0   0   0   0   0\n",
      "  310   0]\n",
      " [  0   0   0   0   0   0   0   0   0   0   0   0   0   0   0   0   0   0\n",
      "    0 251]]\n"
     ]
    },
    {
     "data": {
      "image/png": "[encoded data removed]",
      "text/plain": [
       "<Figure size 288x288 with 2 Axes>"
      ]
     },
     "metadata": {
      "needs_background": "light"
     },
     "output_type": "display_data"
    }
   ],
   "source": [
    "#Benchmark Multinomial Classifier\n",
    "print(\"Testbenching a MultinomialNB classifier...\")\n",
    "parameters = {'alpha': 0.01}\n",
    "\n",
    "benchmark(MultinomialNB, parameters, 'MultinomialNB')"
   ]
  },
  {
   "cell_type": "code",
   "execution_count": 7,
   "metadata": {},
   "outputs": [
    {
     "name": "stdout",
     "output_type": "stream",
     "text": [
      "cluster  0 :  number of documents  3801\n",
      "cluster  1 :  number of documents  128\n",
      "cluster  2 :  number of documents  648\n",
      "cluster  3 :  number of documents  133\n",
      "cluster  4 :  number of documents  538\n",
      "cluster  5 :  number of documents  123\n",
      "cluster  6 :  number of documents  4958\n",
      "cluster  7 :  number of documents  2800\n",
      "cluster  8 :  number of documents  621\n",
      "cluster  9 :  number of documents  402\n",
      "cluster  10 :  number of documents  249\n",
      "cluster  11 :  number of documents  550\n",
      "cluster  12 :  number of documents  555\n",
      "cluster  13 :  number of documents  241\n",
      "cluster  14 :  number of documents  885\n",
      "cluster  15 :  number of documents  390\n",
      "cluster  16 :  number of documents  1176\n",
      "cluster  17 :  number of documents  184\n",
      "cluster  18 :  number of documents  270\n",
      "cluster  19 :  number of documents  194\n"
     ]
    }
   ],
   "source": [
    "#removing the noisy data\n",
    "\n",
    "vectorizer = TfidfVectorizer(min_df=10, max_df=0.5,stop_words='english')\n",
    "vectorized = vectorizer.fit_transform(dataset.data)\n",
    "num_samples, num_features = vectorized.shape\n",
    "num_clusters = 20\n",
    "\n",
    "\n",
    "#creating clusters\n",
    "\n",
    "km = KMeans(n_clusters=num_clusters, init='random',max_iter=30, n_init=1, verbose=0 )\n",
    "km.fit(vectorized)\n",
    "labels = np.array(km.labels_)\n",
    "\n",
    "#printing clusters\n",
    "for i in range(0,num_clusters):\n",
    "    num_docs_in_cluster = sum((labels == i))\n",
    "    print (\"cluster \",i,\": \", \"number of documents \",num_docs_in_cluster)\n",
    "    \n"
   ]
  },
  {
   "cell_type": "code",
   "execution_count": 8,
   "metadata": {},
   "outputs": [
    {
     "data": {
      "image/png": "[encoded data removed]",
      "text/plain": [
       "<Figure size 432x288 with 1 Axes>"
      ]
     },
     "metadata": {
      "needs_background": "light"
     },
     "output_type": "display_data"
    }
   ],
   "source": [
    "arr_1 = [0 for x in range(20)]\n",
    "for x in range (0, 20):\n",
    "     arr_1[x]=x\n",
    "\n",
    "arr_2=[0 for y in range(20)]\n",
    "for y in range(0,num_clusters):\n",
    "    num_docs_in_cluster = sum((labels == y))\n",
    "    arr_2[y]=num_docs_in_cluster\n",
    "\n",
    "#Line Plot\n",
    "plt.plot(arr_1,arr_2)\n",
    "plt.xlabel('Number of Clusters')\n",
    "plt.ylabel ('Number of documents')\n",
    "plt.title('KMeans Cluster')\n",
    "plt.xticks((0,2,4,6,8,10,12,14,16,18,20))\n",
    "plt.yticks((500,1000,1500,2000,2500,3000,3500,4000,4500,5000,5500))\n",
    "plt.show()"
   ]
  },
  {
   "cell_type": "code",
   "execution_count": 9,
   "metadata": {},
   "outputs": [
    {
     "name": "stdout",
     "output_type": "stream",
     "text": [
      "Enter new_post: Disk drive problems. Hi, I have a problem with my hard disk.  After 1 year it is working only sporadically now. I tried to format it, but now it doesn't boot any more. Any ideas? Thanks.\n"
     ]
    }
   ],
   "source": [
    "# Input post\n",
    "new_post=input(\"Enter new_post: \")\n",
    "t0 = time()\n",
    "\n"
   ]
  },
  {
   "cell_type": "code",
   "execution_count": 29,
   "metadata": {},
   "outputs": [
    {
     "name": "stdout",
     "output_type": "stream",
     "text": [
      "Number of similar posts:  1176\n",
      "done in 3391.058196s\n"
     ]
    }
   ],
   "source": [
    "#finding similar posts\n",
    "if new_post.isdigit():\n",
    "    print(\"Invalid post\")\n",
    "else:\n",
    "    # vectorizing input post\n",
    "    new_post_vec = vectorizer.transform([new_post])\n",
    "    new_post_label = km.predict(new_post_vec)[0]\n",
    "    #Fetching indices in the original dataset\n",
    "    similar_indices = (labels==new_post_label).nonzero()[0]\n",
    "    #Finding similar posts\n",
    "    similar = []\n",
    "    for i in similar_indices:\n",
    "        dist = sp.linalg.norm((new_post_vec-vectorized[i,:]).toarray())\n",
    "        similar.append((dist, dataset.data[i]))\n",
    "    similar = sorted(similar)\n",
    "    \n",
    "#print(similar)\n",
    "    \n",
    "print(\"Number of similar posts: \", len(similar))\n",
    "print(\"done in %fs\" % (time() - t0))\n"
   ]
  },
  {
   "cell_type": "code",
   "execution_count": 28,
   "metadata": {},
   "outputs": [
    {
     "data": {
      "text/plain": [
       "[245,\n",
       " 253,\n",
       " 292,\n",
       " 296,\n",
       " 329,\n",
       " 340,\n",
       " 649,\n",
       " 818,\n",
       " 857,\n",
       " 882,\n",
       " 901,\n",
       " 942,\n",
       " 973,\n",
       " 989,\n",
       " 1044,\n",
       " 1065,\n",
       " 1139,\n",
       " 1150,\n",
       " 1167,\n",
       " 1176]"
      ]
     },
     "execution_count": 28,
     "metadata": {},
     "output_type": "execute_result"
    }
   ],
   "source": [
    "# Number of documents in a cluster\n",
    "docs = [0 for i in range(20)]\n",
    "for i in range(0,num_clusters):\n",
    "    num_docs_in_cluster = sum((labels == i))\n",
    "    docs[i]= num_docs_in_cluster\n",
    "\n",
    "temp = np.append(np.cumsum(docs[:-1]),docs[-1])\n",
    "temp[19]= temp[18]+temp[19]\n",
    "\n",
    "#finding similar posts in each cluster \n",
    "x = 0\n",
    "similar_posts_in_each_cluster = [0,0,0,0,0,0,0,0,0,0,0,0,0,0,0,0,0,0,0,0]\n",
    "for i in range(0,20):\n",
    "    for j in range(0, len(similar_indices)):\n",
    "            if(similar_indices[j] < temp[i]):\n",
    "                   x = x+1\n",
    "    \n",
    "            similar_posts_in_each_cluster[i] = x\n",
    "            \n",
    "    x = 0\n",
    "similar_posts_in_each_cluster"
   ]
  },
  {
   "cell_type": "code",
   "execution_count": 27,
   "metadata": {},
   "outputs": [
    {
     "data": {
      "image/png": "[encoded data removed]",
      "text/plain": [
       "<Figure size 432x288 with 1 Axes>"
      ]
     },
     "metadata": {
      "needs_background": "light"
     },
     "output_type": "display_data"
    }
   ],
   "source": [
    "#Line plot\n",
    "plt.plot(arr_1, similar_posts_in_each_cluster,color='green', linestyle='dashed', linewidth = 3, \n",
    "         marker='o', markerfacecolor='blue', markersize=12)\n",
    "plt.xlim(0,20) \n",
    "plt.ylim(0,1300) \n",
    "plt.xlabel('Cluster Number')\n",
    "plt.ylabel ('Number of similar posts')\n",
    "plt.title('Similar Posts in the Cluster')\n",
    "plt.xticks((0,2,4,6,8,10,12,14,16,18,20))\n",
    "plt.yticks((100,200,300,400,500,600,700,800,900,1000,1100,1200,1300))\n",
    "plt.show()"
   ]
  },
  {
   "cell_type": "code",
   "execution_count": 20,
   "metadata": {},
   "outputs": [
    {
     "name": "stdout",
     "output_type": "stream",
     "text": [
      "+---------+------------+---------------------------------------------------------------------------------+\n",
      "|   Index |   Position | Excerpt Posts                                                                   |\n",
      "+=========+============+=================================================================================+\n",
      "|       0 |    1.08548 | From: rogntorb@idt.unit.no (Torbj|rn Rognes)                                    |\n",
      "|         |            | Subject: Adding int. hard disk drive to IIcx                                    |\n",
      "|         |            | Keywords: Mac IIcx, internal, hard disk drive, SCSI                             |\n",
      "|         |            | Reply-To: rogntorb@idt.unit.no (Torbj|rn Rognes)                                |\n",
      "|         |            | Organization: Div. of CS & Telematics, Norwegian Institute of Technology        |\n",
      "|         |            | Lines: 32                                                                       |\n",
      "|         |            |                                                                                 |\n",
      "|         |            | I haven't seen much info about how to add an extra internal disk to a           |\n",
      "|         |            | mac. We would like to try it, and I wonder if someone had some good             |\n",
      "|         |            | advice.                                                                         |\n",
      "|         |            |                                                                                 |\n",
      "|         |            | We have a Mac IIcx with the original internal Quantum 40MB hard disk,           |\n",
      "|         |            | and an unusable floppy drive. We also have a new spare Connor 40MB              |\n",
      "|         |            | disk which we would like to use. The idea is to replace the broken              |\n",
      "|         |            | floppy drive with the new hard disk, but there seems to be some                 |\n",
      "|         |            | problems:                                                                       |\n",
      "|         |            |                                                                                 |\n",
      "|         |            | The internal SCSI cable and power cable inside the cx has only                  |\n",
      "|         |            | connectors for one single hard disk drive.                                      |\n",
      "|         |            |                                                                                 |\n",
      "|         |            | If I made a ribbon cable and a power cable with three connectors each           |\n",
      "|         |            | (1 for motherboard, 1 for each of the 2 disks), would it work?                  |\n",
      "|         |            |                                                                                 |\n",
      "|         |            | Is the IIcx able to supply the extra power to the extra disk?                   |\n",
      "|         |            |                                                                                 |\n",
      "|         |            | What about terminators? I suppose that i should remove the resistor             |\n",
      "|         |            | packs from the disk that is closest to the motherboard, but leave them          |\n",
      "|         |            | installed in the other disk.                                                    |\n",
      "|         |            |                                                                                 |\n",
      "|         |            | The SCSI ID jumpers should also be changed so that the new disk gets            |\n",
      "|         |            | ID #1. The old one should have ID #0.                                           |\n",
      "|         |            |                                                                                 |\n",
      "|         |            | It is no problem for us to remove the floppy drive, as we have an               |\n",
      "|         |            | external floppy that we can use if it won't boot of the hard disk.              |\n",
      "|         |            |                                                                                 |\n",
      "|         |            | Thank you!                                                                      |\n",
      "|         |            |                                                                                 |\n",
      "|         |            | ----------------------------------------------------------------------          |\n",
      "|         |            | Torbj|rn Rognes                            Email: rogntorb@idt.unit.no          |\n",
      "+---------+------------+---------------------------------------------------------------------------------+\n",
      "|       1 |    1.39408 | From: ak333@cleveland.Freenet.Edu (Martin Linsenbigler)                         |\n",
      "|         |            | Subject: Standard and Enhanced question                                         |\n",
      "|         |            | Organization: Case Western Reserve University, Cleveland, OH (USA)              |\n",
      "|         |            | Lines: 31                                                                       |\n",
      "|         |            | Reply-To: ak333@cleveland.Freenet.Edu (Martin Linsenbigler)                     |\n",
      "|         |            | NNTP-Posting-Host: hela.ins.cwru.edu                                            |\n",
      "|         |            |                                                                                 |\n",
      "|         |            |                                                                                 |\n",
      "|         |            | Why is Win 3.1 sometimes so finicky?                                            |\n",
      "|         |            | I have a new DELL 486DX2/66mhz  8 megs RAM.                                     |\n",
      "|         |            | Windows was working just great.  I had a Bus mouse and mother board problem.    |\n",
      "|         |            | DELL replaced the mouse, gave me a newer mouse driver for windows               |\n",
      "|         |            | and replaced the motherboard.  Just prior to this problem windows would         |\n",
      "|         |            | ]only load up every other time.  I would get the LOGO and either it would       |\n",
      "|         |            | go on into windows or LOCK UP.  This was very consistent EVERY OTHER TIME.      |\n",
      "|         |            |                                                                                 |\n",
      "|         |            | Now with the new motherboard and all, it still does the same thing.             |\n",
      "|         |            | The computer is less than one month old.  At first it worked FINE!              |\n",
      "|         |            | I can get into windows each time now with the   win/s command.                  |\n",
      "|         |            | This forces Standard mode.  Things seem to run slower.  I mainly                |\n",
      "|         |            | use windows apps, but in standard mode there is no virtual mem.....             |\n",
      "|         |            | plus it is slower.                                                              |\n",
      "|         |            |                                                                                 |\n",
      "|         |            | I re-loaded windows, it still does the same thing.  Should I first delete       |\n",
      "|         |            | everything in all windows dir's?  I did not because I have so much              |\n",
      "|         |            | added in sub dir's etc.                                                         |\n",
      "|         |            |                                                                                 |\n",
      "|         |            | Really puzzling why ENHANCED MODE would not load each time but consistently     |\n",
      "|         |            | every other time.  Standard mode each time......                                |\n",
      "|         |            |                                                                                 |\n",
      "|         |            | ANY THOUGHTS OR COMMENTS ???                                                    |\n",
      "|         |            |                                                                                 |\n",
      "|         |            | C-ya..... /\\/\\artin                                                             |\n",
      "|         |            | --                                                                              |\n",
      "|         |            |   This communication is sent by    /\\/\\artin   University of Arizona Tucson     |\n",
      "|         |            |   =========================================================================     |\n",
      "|         |            |   ak333@cleveland.freenet.edu   mlinsenb@ccit.arizona.edu  mlinsenb@arizvms     |\n",
      "|         |            |   DEATH HAS BEEN DEAD FOR ABOUT 2,000 YEARS ****** FOLLOW THE KING OF KINGS     |\n",
      "+---------+------------+---------------------------------------------------------------------------------+\n",
      "|       2 |    1.41421 | From: dplatt@ntg.com (Dave Platt)                                               |\n",
      "|         |            | Subject: Jumper settings for Ungermann-Bass PCNIC Ethernet card                 |\n",
      "|         |            | Organization: New Technologies Group                                            |\n",
      "|         |            | Distribution: usa                                                               |\n",
      "|         |            | Lines: 16                                                                       |\n",
      "|         |            |                                                                                 |\n",
      "|         |            | Does anybody have a data-sheet handly for the above-mentioned card?  I          |\n",
      "|         |            | bought one, sans manual at a local surplus shop, and want to try it out         |\n",
      "|         |            | with the Crywyr packet driver suite.                                            |\n",
      "|         |            |                                                                                 |\n",
      "|         |            | The IRQ and interface-select jumpers are pretty straightforward, but I          |\n",
      "|         |            | don't grok the settings of W10-W18 (also labelled A15 through A18).             |\n",
      "|         |            | Could somebody tell me which settings of these four jumpers correspond          |\n",
      "|         |            | to what I/O addresses?                                                          |\n",
      "|         |            |                                                                                 |\n",
      "|         |            | Is there anything else about this card I should know, before I                  |\n",
      "|         |            | plug&play?                                                                      |\n",
      "|         |            |                                                                                 |\n",
      "|         |            | --                                                                              |\n",
      "|         |            | Dave Platt                                                VOICE: (415) 813-8917 |\n",
      "|         |            |               Domain: dplatt@ntg.com      UUCP: ...netcomsv!ntg!dplatt          |\n",
      "|         |            |  USNAIL: New Technologies Group Inc. 2470 Embarcardero Way, Palo Alto CA 94303  |\n",
      "+---------+------------+---------------------------------------------------------------------------------+\n"
     ]
    }
   ],
   "source": [
    "show_at_1 = similar[0]\n",
    "show_at_2 = similar[int(len(similar)/2)]\n",
    "show_at_3 = similar[-1]\n",
    "\n",
    "from tabulate import tabulate\n",
    "table = [show_at_1, show_at_2, show_at_3]\n",
    "print(tabulate(table,headers=[\"Index\",\"Position\",\"Excerpt Posts\"], showindex=True, tablefmt=\"grid\"))\n"
   ]
  },
  {
   "cell_type": "code",
   "execution_count": null,
   "metadata": {},
   "outputs": [],
   "source": []
  }
 ],
 "metadata": {
  "kernelspec": {
   "display_name": "Python 3",
   "language": "python",
   "name": "python3"
  },
  "language_info": {
   "codemirror_mode": {
    "name": "ipython",
    "version": 3
   },
   "file_extension": ".py",
   "mimetype": "text/x-python",
   "name": "python",
   "nbconvert_exporter": "python",
   "pygments_lexer": "ipython3",
   "version": "3.7.6"
  }
 },
 "nbformat": 4,
 "nbformat_minor": 4
}
